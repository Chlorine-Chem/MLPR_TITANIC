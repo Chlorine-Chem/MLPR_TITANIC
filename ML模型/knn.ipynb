{
 "cells": [
  {
   "cell_type": "code",
   "execution_count": 1,
   "metadata": {},
   "outputs": [],
   "source": [
    "from sklearn import metrics\n",
    "from sklearn.neighbors import KNeighborsClassifier\n",
    "import pandas as pd\n",
    "import numpy as np\n",
    "from math import inf\n",
    "import warnings\n",
    "warnings.filterwarnings('ignore')\n",
    "source_X = pd.read_csv('source_X4.csv')\n",
    "source_y = pd.read_csv('source_y4.csv')\n",
    "pred_X = pd.read_csv('pred_X-4.csv')\n",
    "test = pd.read_csv('test.csv')"
   ]
  },
  {
   "cell_type": "code",
   "execution_count": 2,
   "metadata": {},
   "outputs": [],
   "source": [
    "from sklearn.model_selection import train_test_split\n",
    "train_X,test_X,train_y,test_y = train_test_split(source_X,source_y,train_size = 0.8)"
   ]
  },
  {
   "cell_type": "code",
   "execution_count": 3,
   "metadata": {
    "scrolled": false
   },
   "outputs": [
    {
     "name": "stdout",
     "output_type": "stream",
     "text": [
      "CV accuracy: 0.774 +/- 0.056\n",
      "Best model:  {'kneighborsclassifier__leaf_size': 10, 'kneighborsclassifier__n_neighbors': 5, 'kneighborsclassifier__p': 1}\n",
      "Best score:  0.797752808988764 (train performance)\n",
      "Best score: Test perfrmance: 0.793\n",
      "Best score:  0.7932960893854749 (Test perfrmance)\n"
     ]
    }
   ],
   "source": [
    "from sklearn.pipeline import make_pipeline\n",
    "from sklearn.model_selection import GridSearchCV\n",
    "from sklearn.preprocessing import StandardScaler\n",
    "from sklearn.model_selection import cross_val_score\n",
    "pipe = make_pipeline(StandardScaler(),\n",
    "                    KNeighborsClassifier(n_jobs = -1))\n",
    "param_range1 = [1,3,5,7,9]\n",
    "param_range2 = [1,2,3,inf]\n",
    "param_grid = {\n",
    "    'kneighborsclassifier__n_neighbors':param_range1,\n",
    "    'kneighborsclassifier__p': param_range2,\n",
    "    'kneighborsclassifier__leaf_size': list(range(10,100,20))\n",
    "}\n",
    "gs = GridSearchCV(estimator=pipe, \n",
    "                  param_grid=param_grid, \n",
    "                  scoring='accuracy', # HN: try scoring='recall','precision',‘f1’,'accuracy' to see the best model change\n",
    "                  refit=True,\n",
    "                  cv=10,              # HN: try cv=5,10,15 to see the best model change\n",
    "                  n_jobs=-1)\n",
    "scores = cross_val_score(gs, train_X, train_y, \n",
    "                         scoring='accuracy', cv=10)\n",
    "print('CV accuracy: %.3f +/- %.3f' % (np.mean(scores),\n",
    "                                      np.std(scores)))\n",
    "gs = gs.fit(train_X, train_y)\n",
    "\n",
    "print(\"Best model: \", gs.best_params_)\n",
    "print(\"Best score: \",gs.best_score_,\"(train performance)\")\n",
    "\n",
    "# use the best model to test data.\n",
    "clf = gs.best_estimator_\n",
    "print('Best score: Test perfrmance: %.3f' % clf.score(test_X, test_y))\n",
    "print('Best score: ', clf.score(test_X, test_y),\"(Test perfrmance)\")"
   ]
  },
  {
   "cell_type": "code",
   "execution_count": 4,
   "metadata": {
    "scrolled": false
   },
   "outputs": [],
   "source": [
    "import matplotlib.pyplot as plt\n",
    "from sklearn.model_selection import learning_curve\n",
    "train_sizes,train_score,test_score = learning_curve(estimator=gs,\n",
    "                                                   X = train_X,\n",
    "                                                   y = train_y,\n",
    "                                                   train_sizes=np.linspace(0.1,1.0,10),\n",
    "                                                   cv = 5,\n",
    "                                                   n_jobs=-1)\n",
    "train_mean = np.mean(train_score,axis = 1)\n",
    "train_std  = np.std(train_score,axis = 1)\n",
    "test_mean = np.mean(test_score,axis = 1)\n",
    "test_std = np.std(test_score,axis = 1)"
   ]
  },
  {
   "cell_type": "code",
   "execution_count": 5,
   "metadata": {
    "scrolled": false
   },
   "outputs": [
    {
     "data": {
      "image/png": "[encoded data removed]",
      "text/plain": [
       "<Figure size 432x288 with 1 Axes>"
      ]
     },
     "metadata": {
      "needs_background": "light"
     },
     "output_type": "display_data"
    }
   ],
   "source": [
    "plt.plot(train_sizes,train_mean,\n",
    "        color = 'blue',marker = 'o',\n",
    "        markersize = 5,label = 'Training accuracy')\n",
    "plt.fill_between(train_sizes,\n",
    "                 train_mean + train_std,\n",
    "                 train_mean - train_std,\n",
    "                 alpha=0.15, color='blue')\n",
    "\n",
    "plt.plot(train_sizes, test_mean,\n",
    "         color='green', linestyle='--',\n",
    "         marker='s', markersize=5,\n",
    "         label='Validation accuracy')\n",
    "\n",
    "plt.fill_between(train_sizes,\n",
    "                 test_mean + test_std,\n",
    "                 test_mean - test_std,\n",
    "                 alpha=0.15, color='green')\n",
    "\n",
    "plt.grid()\n",
    "plt.xlabel('Number of training examples')\n",
    "plt.ylabel('Accuracy')\n",
    "plt.legend(loc='lower right')\n",
    "plt.ylim([0.6, 1.0])\n",
    "plt.tight_layout()\n",
    "#plt.savefig('1.png', dpi=300)\n",
    "plt.show()\n",
    "# print(\"train_std:\",train_std)\n",
    "# print(\"test_std:\",test_std)"
   ]
  },
  {
   "cell_type": "code",
   "execution_count": 6,
   "metadata": {
    "scrolled": false
   },
   "outputs": [
    {
     "name": "stdout",
     "output_type": "stream",
     "text": [
      "0.7932960893854749\n"
     ]
    }
   ],
   "source": [
    "pred_y = gs.predict(test_X)\n",
    "print(metrics.accuracy_score(test_y,pred_y))"
   ]
  },
  {
   "cell_type": "code",
   "execution_count": 7,
   "metadata": {},
   "outputs": [],
   "source": [
    "pred_Y = gs.predict(pred_X)#使用我们创建的模型，对预测数据集中的生存情况进行预测\n",
    "pred_Y = pred_Y.astype(int)#因为kaggle要求结果数据类型为int，我们进行数据类型转换\n",
    "passengerId = test['PassengerId']\n",
    "#创建结果集\n",
    "predDf = pd.DataFrame(\n",
    "    {\n",
    "        'PassengerId':passengerId,\n",
    "        'Survived':pred_Y\n",
    "    }\n",
    ")\n",
    "#导出结果\n",
    "predDf.to_csv('KNN-4.csv',index = False)"
   ]
  }
 ],
 "metadata": {
  "kernelspec": {
   "display_name": "Python 3",
   "language": "python",
   "name": "python3"
  },
  "language_info": {
   "codemirror_mode": {
    "name": "ipython",
    "version": 3
   },
   "file_extension": ".py",
   "mimetype": "text/x-python",
   "name": "python",
   "nbconvert_exporter": "python",
   "pygments_lexer": "ipython3",
   "version": "3.7.6"
  }
 },
 "nbformat": 4,
 "nbformat_minor": 2
}
