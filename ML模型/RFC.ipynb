{
 "cells": [
  {
   "cell_type": "code",
   "execution_count": 1,
   "metadata": {},
   "outputs": [],
   "source": [
    "import matplotlib.pyplot as  plt\n",
    "import pandas as pd\n",
    "import numpy as np\n",
    "import seaborn as sns\n",
    "import warnings\n",
    "warnings.filterwarnings('ignore')\n",
    "source_X = pd.read_csv('source_X4.csv')\n",
    "source_y = pd.read_csv('source_y4.csv')\n",
    "pred_X = pd.read_csv('pred_X-4.csv')\n",
    "test = pd.read_csv('test.csv')"
   ]
  },
  {
   "cell_type": "code",
   "execution_count": 2,
   "metadata": {},
   "outputs": [],
   "source": [
    "from sklearn.ensemble import RandomForestClassifier\n",
    "from sklearn import metrics\n",
    "from sklearn.model_selection import train_test_split\n",
    "from sklearn.metrics import classification_report\n",
    "from sklearn.metrics import confusion_matrix\n",
    "\n",
    "train_X,test_X,train_y,test_y = train_test_split(source_X,source_y,train_size = 0.2)"
   ]
  },
  {
   "cell_type": "code",
   "execution_count": 3,
   "metadata": {
    "scrolled": true
   },
   "outputs": [
    {
     "name": "stderr",
     "output_type": "stream",
     "text": [
      "C:\\ProgramData\\Anaconda3\\lib\\site-packages\\sklearn\\model_selection\\_search.py:813: DeprecationWarning: The default of the `iid` parameter will change from True to False in version 0.22 and will be removed in 0.24. This will change numeric results when test-set sizes are unequal.\n",
      "  DeprecationWarning)\n"
     ]
    },
    {
     "name": "stdout",
     "output_type": "stream",
     "text": [
      "Best model:  {'randomforestclassifier__n_estimators': 140}\n",
      "Best score:  0.7191011235955056 (train performance)\n"
     ]
    }
   ],
   "source": [
    "from sklearn.pipeline import make_pipeline\n",
    "from sklearn.model_selection import GridSearchCV\n",
    "from sklearn.preprocessing import StandardScaler\n",
    "from sklearn.model_selection import cross_val_score\n",
    "pipe = make_pipeline(StandardScaler(),\n",
    "                    RandomForestClassifier(random_state = 1))\n",
    "param_range = list(range(20,200,20))\n",
    "param_grid = {\n",
    "    'randomforestclassifier__n_estimators':param_range\n",
    "}\n",
    "gs = GridSearchCV(estimator=pipe, \n",
    "                  param_grid=param_grid, \n",
    "                  scoring='accuracy', # HN: try scoring='recall','precision',‘f1’,'accuracy' to see the best model change\n",
    "                  refit=True,\n",
    "                  cv=5,              # HN: try cv=5,10,15 to see the best model change\n",
    "                  n_jobs=-1)\n",
    "gs = gs.fit(train_X, train_y)\n",
    "print(\"Best model: \", gs.best_params_)\n",
    "print(\"Best score: \",gs.best_score_,\"(train performance)\")"
   ]
  },
  {
   "cell_type": "code",
   "execution_count": 5,
   "metadata": {
    "scrolled": true
   },
   "outputs": [
    {
     "name": "stderr",
     "output_type": "stream",
     "text": [
      "C:\\ProgramData\\Anaconda3\\lib\\site-packages\\sklearn\\model_selection\\_search.py:813: DeprecationWarning: The default of the `iid` parameter will change from True to False in version 0.22 and will be removed in 0.24. This will change numeric results when test-set sizes are unequal.\n",
      "  DeprecationWarning)\n",
      "C:\\ProgramData\\Anaconda3\\lib\\site-packages\\sklearn\\model_selection\\_search.py:813: DeprecationWarning: The default of the `iid` parameter will change from True to False in version 0.22 and will be removed in 0.24. This will change numeric results when test-set sizes are unequal.\n",
      "  DeprecationWarning)\n",
      "C:\\ProgramData\\Anaconda3\\lib\\site-packages\\sklearn\\model_selection\\_search.py:813: DeprecationWarning: The default of the `iid` parameter will change from True to False in version 0.22 and will be removed in 0.24. This will change numeric results when test-set sizes are unequal.\n",
      "  DeprecationWarning)\n",
      "C:\\ProgramData\\Anaconda3\\lib\\site-packages\\sklearn\\model_selection\\_search.py:813: DeprecationWarning: The default of the `iid` parameter will change from True to False in version 0.22 and will be removed in 0.24. This will change numeric results when test-set sizes are unequal.\n",
      "  DeprecationWarning)\n",
      "C:\\ProgramData\\Anaconda3\\lib\\site-packages\\sklearn\\model_selection\\_search.py:813: DeprecationWarning: The default of the `iid` parameter will change from True to False in version 0.22 and will be removed in 0.24. This will change numeric results when test-set sizes are unequal.\n",
      "  DeprecationWarning)\n",
      "C:\\ProgramData\\Anaconda3\\lib\\site-packages\\sklearn\\model_selection\\_search.py:813: DeprecationWarning: The default of the `iid` parameter will change from True to False in version 0.22 and will be removed in 0.24. This will change numeric results when test-set sizes are unequal.\n",
      "  DeprecationWarning)\n",
      "C:\\ProgramData\\Anaconda3\\lib\\site-packages\\sklearn\\model_selection\\_search.py:813: DeprecationWarning: The default of the `iid` parameter will change from True to False in version 0.22 and will be removed in 0.24. This will change numeric results when test-set sizes are unequal.\n",
      "  DeprecationWarning)\n",
      "C:\\ProgramData\\Anaconda3\\lib\\site-packages\\sklearn\\model_selection\\_search.py:813: DeprecationWarning: The default of the `iid` parameter will change from True to False in version 0.22 and will be removed in 0.24. This will change numeric results when test-set sizes are unequal.\n",
      "  DeprecationWarning)\n",
      "C:\\ProgramData\\Anaconda3\\lib\\site-packages\\sklearn\\model_selection\\_search.py:813: DeprecationWarning: The default of the `iid` parameter will change from True to False in version 0.22 and will be removed in 0.24. This will change numeric results when test-set sizes are unequal.\n",
      "  DeprecationWarning)\n",
      "C:\\ProgramData\\Anaconda3\\lib\\site-packages\\sklearn\\model_selection\\_search.py:813: DeprecationWarning: The default of the `iid` parameter will change from True to False in version 0.22 and will be removed in 0.24. This will change numeric results when test-set sizes are unequal.\n",
      "  DeprecationWarning)\n"
     ]
    },
    {
     "name": "stdout",
     "output_type": "stream",
     "text": [
      "rfc accuracy: 0.770 +/- 0.147\n"
     ]
    },
    {
     "name": "stderr",
     "output_type": "stream",
     "text": [
      "C:\\ProgramData\\Anaconda3\\lib\\site-packages\\sklearn\\model_selection\\_search.py:813: DeprecationWarning: The default of the `iid` parameter will change from True to False in version 0.22 and will be removed in 0.24. This will change numeric results when test-set sizes are unequal.\n",
      "  DeprecationWarning)\n"
     ]
    },
    {
     "name": "stdout",
     "output_type": "stream",
     "text": [
      "Best model:  {'randomforestclassifier__max_depth': 2, 'randomforestclassifier__min_samples_split': 0.5, 'randomforestclassifier__n_estimators': 140}\n",
      "Best score:  0.7808988764044944 (train performance)\n",
      "Best score: Test perfrmance: 0.797\n",
      "Best score:  0.7966339410939691 (Test perfrmance)\n"
     ]
    }
   ],
   "source": [
    "param_grid = {\n",
    "    'randomforestclassifier__n_estimators':[140],\n",
    "    'randomforestclassifier__max_depth':list(range(1,10)),\n",
    "    'randomforestclassifier__min_samples_split':np.linspace(0.1,1,10)\n",
    "}\n",
    "gs = GridSearchCV(estimator=pipe, \n",
    "                  param_grid=param_grid, \n",
    "                  scoring='accuracy', # HN: try scoring='recall','precision',‘f1’,'accuracy' to see the best model change\n",
    "                  refit=True,\n",
    "                  cv=5,              # HN: try cv=5,10,15 to see the best model change\n",
    "                  n_jobs=-1)\n",
    "scores = cross_val_score(gs, train_X, train_y,scoring='accuracy', cv=10)\n",
    "print('rfc accuracy: %.3f +/- %.3f' % (np.mean(scores),\n",
    "                                      np.std(scores)))\n",
    "gs = gs.fit(train_X, train_y)\n",
    "\n",
    "print(\"Best model: \", gs.best_params_)\n",
    "print(\"Best score: \",gs.best_score_,\"(train performance)\")\n",
    "\n",
    "# use the best model to test data.\n",
    "clf = gs.best_estimator_\n",
    "print('Best score: Test perfrmance: %.3f' % clf.score(test_X, test_y))\n",
    "print('Best score: ', clf.score(test_X, test_y),\"(Test perfrmance)\")"
   ]
  },
  {
   "cell_type": "code",
   "execution_count": 6,
   "metadata": {},
   "outputs": [],
   "source": [
    "pred_Y = gs.predict(pred_X)#使用我们创建的模型，对预测数据集中的生存情况进行预测\n",
    "pred_Y = pred_Y.astype(int)#因为kaggle要求结果数据类型为int，我们进行数据类型转换\n",
    "passengerId = test['PassengerId']\n",
    "#创建结果集\n",
    "predDf = pd.DataFrame(\n",
    "    {\n",
    "        'PassengerId':passengerId,\n",
    "        'Survived':pred_Y\n",
    "    }\n",
    ")\n",
    "#导出结果\n",
    "predDf.to_csv('RFC04.csv',index = False)"
   ]
  },
  {
   "cell_type": "code",
   "execution_count": 11,
   "metadata": {
    "scrolled": true
   },
   "outputs": [
    {
     "name": "stdout",
     "output_type": "stream",
     "text": [
      "\u0007\n"
     ]
    }
   ],
   "source": [
    "print('\\a')"
   ]
  },
  {
   "cell_type": "markdown",
   "metadata": {},
   "source": [
    "param_grid = {\n",
    "    'randomforestclassifier__n_estimators':[20],\n",
    "    'randomforestclassifier__max_depth':list(range(1,10)),\n",
    "    'randomforestclassifier__min_samples_split':np.linspace(0.1,1,10)\n",
    "}\n",
    "gs = GridSearchCV(estimator=pipe, \n",
    "                  param_grid=param_grid, \n",
    "                  scoring='accuracy', # HN: try scoring='recall','precision',‘f1’,'accuracy' to see the best model change\n",
    "                  refit=True,\n",
    "                  cv=5,              # HN: try cv=5,10,15 to see the best model change\n",
    "                  n_jobs=-1)\n",
    "scores = cross_val_score(gs, train_X, train_y,scoring='accuracy', cv=10)\n",
    "print('rfc accuracy: %.3f +/- %.3f' % (np.mean(scores),\n",
    "                                      np.std(scores)))\n",
    "gs = gs.fit(train_X, train_y)\n",
    "\n",
    "print(\"Best model: \", gs.best_params_)\n",
    "print(\"Best score: \",gs.best_score_,\"(train performance)\")\n",
    "\n",
    "# use the best model to test data.\n",
    "clf = gs.best_estimator_\n",
    "print('Best score: Test perfrmance: %.3f' % clf.score(test_X, test_y))\n",
    "print('Best score: ', clf.score(test_X, test_y),\"(Test perfrmance)\")"
   ]
  }
 ],
 "metadata": {
  "kernelspec": {
   "display_name": "Python 3",
   "language": "python",
   "name": "python3"
  },
  "language_info": {
   "codemirror_mode": {
    "name": "ipython",
    "version": 3
   },
   "file_extension": ".py",
   "mimetype": "text/x-python",
   "name": "python",
   "nbconvert_exporter": "python",
   "pygments_lexer": "ipython3",
   "version": "3.7.6"
  }
 },
 "nbformat": 4,
 "nbformat_minor": 2
}
